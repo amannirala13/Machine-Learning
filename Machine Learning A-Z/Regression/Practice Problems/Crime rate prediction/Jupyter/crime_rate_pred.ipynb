{
 "cells": [
  {
   "cell_type": "code",
   "execution_count": 15,
   "metadata": {},
   "outputs": [
    {
     "data": {
      "text/plain": [
       "'\\nCreated on Sat Oct 12 16:12:01 2019\\n\\n@author: Aman Nirala\\n\\nGithub: http://www.github.com/amannirala13\\nLinkedIn: http://www.linkedin/in/amannirala13\\nFacebook: http://www.facebook.com/amannirala13\\nInstagram: http://www.instagram.com/amannirala13\\nTwitter: http://www.twitter.com/amannirala13\\n\\n'"
      ]
     },
     "execution_count": 15,
     "metadata": {},
     "output_type": "execute_result"
    }
   ],
   "source": [
    "# -*- coding: utf-8 -*-\n",
    "\"\"\"\n",
    "Created on Sat Oct 12 16:12:01 2019\n",
    "\n",
    "@author: Aman Nirala\n",
    "\n",
    "Github: http://www.github.com/amannirala13\n",
    "LinkedIn: http://www.linkedin/in/amannirala13\n",
    "Facebook: http://www.facebook.com/amannirala13\n",
    "Instagram: http://www.instagram.com/amannirala13\n",
    "Twitter: http://www.twitter.com/amannirala13\n",
    "\n",
    "\"\"\""
   ]
  },
  {
   "cell_type": "code",
   "execution_count": 16,
   "metadata": {},
   "outputs": [],
   "source": [
    "# >>> Import important libraries\n",
    "\n",
    "import pandas as pd\n",
    "import numpy as np\n",
    "import matplotlib.pyplot as plt\n",
    "from sklearn.linear_model import LinearRegression"
   ]
  },
  {
   "cell_type": "code",
   "execution_count": 17,
   "metadata": {},
   "outputs": [
    {
     "name": "stdout",
     "output_type": "stream",
     "text": [
      "                                           CRIME HEAD    2001    2002    2003  \\\n",
      "0                                                Rape   16075   16373   15847   \n",
      "1           Kidnapping and Abduction of Women & Girls   14645   14506   13296   \n",
      "2                                        Dowry Deaths    6851    6822    6208   \n",
      "3   Assault on women with intent to outrage her mo...   34124   33943   32939   \n",
      "4                      Insult to the modesty of Women    9746   10155   12325   \n",
      "5                 Cruelty by Husband or his relatives   49170   49237   50703   \n",
      "6           Importation of Girls from Foreign Country     114      76      46   \n",
      "7                             Immoral Traffic (P) Act    8796    6598    5510   \n",
      "8                               Dowry Prohibition Act    3222    2816    2684   \n",
      "9            Indecent Representation of Women (P) Act    1052    2508    1043   \n",
      "10                         Commission of Sati (P) Act       0       0       0   \n",
      "11                         Total Crimes against Women  143795  143034  140601   \n",
      "\n",
      "      2004    2005    2006    2007    2008    2009    2010    2011    2012  \n",
      "0    18233   18359   19348   20737   21467   21397   22172   24206   24923  \n",
      "1    15578   15750   17414   20416   22939   25741   29795   35565   38262  \n",
      "2     7026    6787    7618    8093    8172    8383    8391    8618    8233  \n",
      "3    34567   34175   36617   38734   40413   38711   40613   42968   45351  \n",
      "4    10001    9984    9966   10950   12214   11009    9961    8570    9173  \n",
      "5    58121   58319   63128   75930   81344   89546   94041   99135  106527  \n",
      "6       89     149      67      61      67      48      36      80      59  \n",
      "7     5748    5908    4541    3568    2660    2474    2499    2435    2563  \n",
      "8     3592    3204    4504    5623    5555    5650    5182    6619    9038  \n",
      "9     1378    2917    1562    1200    1025     845     895     453     141  \n",
      "10       0       1       0       0       1       0       0       1       0  \n",
      "11  154333  155553  164765  185312  195857  203804  213585  228650  244270  \n"
     ]
    }
   ],
   "source": [
    "# >>> Read values from dataset\n",
    "\n",
    "dataset = pd.read_csv(\"CAW.csv\")\n",
    "\n",
    "#Just to view variable\n",
    "print(dataset)"
   ]
  },
  {
   "cell_type": "code",
   "execution_count": 18,
   "metadata": {},
   "outputs": [
    {
     "name": "stdout",
     "output_type": "stream",
     "text": [
      "[[143795 143034 140601 154333 155553 164765 185312 195857 203804 213585\n",
      "  228650 244270]]\n"
     ]
    }
   ],
   "source": [
    "# >>> Processing data before training model and plotting graph\n",
    "# >>> Seperating Total crime rate from data set as it is the dependent variable\n",
    "\n",
    "Y = dataset.iloc[11:12,1:].values\n",
    "Y_s = np.reshape(Y,(12,1))\n",
    "\n",
    "#Just to view variable\n",
    "print(Y)"
   ]
  },
  {
   "cell_type": "code",
   "execution_count": 19,
   "metadata": {},
   "outputs": [
    {
     "name": "stdout",
     "output_type": "stream",
     "text": [
      "[[2001 2002 2003 2004 2005 2006 2007 2008 2009 2010 2011 2012]]\n"
     ]
    }
   ],
   "source": [
    "# >>> Processing data before training model and plotting graph\n",
    "# >>> Creating a set with the date in years\n",
    "\n",
    "#A bad practice (Still working on it)\n",
    "\n",
    "X = pd.DataFrame({\"2001\":[2001], \"2002\":[2002], \"2003\":[2003], \"2004\":[2004], \"2005\":[2005], \"2006\":[2006], \"2007\":[2007], \"2008\":[2008], \"2009\":[2009], \"2010\":[2010], \"2011\":[2011], \"2012\":[2012]}).values;\n",
    "X_s = np.reshape(X,(12,1))\n",
    "\n",
    "#Just to view variable\n",
    "print(X)"
   ]
  },
  {
   "cell_type": "code",
   "execution_count": 20,
   "metadata": {},
   "outputs": [
    {
     "data": {
      "text/plain": [
       "LinearRegression(copy_X=True, fit_intercept=True, n_jobs=None, normalize=False)"
      ]
     },
     "execution_count": 20,
     "metadata": {},
     "output_type": "execute_result"
    }
   ],
   "source": [
    "# >>> Training a linear model on the dataset\n",
    "\n",
    "regressor = LinearRegression()\n",
    "regressor.fit(X_s, Y_s)"
   ]
  },
  {
   "cell_type": "code",
   "execution_count": 21,
   "metadata": {},
   "outputs": [
    {
     "name": "stdout",
     "output_type": "stream",
     "text": [
      "   2014\n",
      "0  2014\n"
     ]
    }
   ],
   "source": [
    "# >>> Creating a dataframe for the year who's crime rate is to be predicted\n",
    "\n",
    "X_p = pd.DataFrame({\"2014\":[2014]})\n",
    "\n",
    "#Just to view variable\n",
    "print(X_p)"
   ]
  },
  {
   "cell_type": "code",
   "execution_count": 22,
   "metadata": {},
   "outputs": [
    {
     "name": "stdout",
     "output_type": "stream",
     "text": [
      "[[253913.24708625]]\n"
     ]
    }
   ],
   "source": [
    "# >>> Predicting the value of crime rate for the year defined above\n",
    "\n",
    "Y_p = regressor.predict(X_p)\n",
    "\n",
    "#Just to view variable\n",
    "print(Y_p)"
   ]
  },
  {
   "cell_type": "code",
   "execution_count": 23,
   "metadata": {},
   "outputs": [
    {
     "name": "stdout",
     "output_type": "stream",
     "text": [
      "[337922]\n"
     ]
    }
   ],
   "source": [
    "# >>> Creating a dataframe for the actual crime rate of that year who's crime rate we predicted\n",
    "\n",
    "Y_a= np.array([337922])\n",
    "\n",
    "#Just to view variable\n",
    "print(Y_a)"
   ]
  },
  {
   "cell_type": "code",
   "execution_count": 24,
   "metadata": {},
   "outputs": [
    {
     "data": {
      "image/png": "[encoded data removed]",
      "text/plain": [
       "<Figure size 432x288 with 1 Axes>"
      ]
     },
     "metadata": {
      "needs_background": "light"
     },
     "output_type": "display_data"
    },
    {
     "name": "stdout",
     "output_type": "stream",
     "text": [
      "Predicted crime rate in  2014  :  253913\n",
      "Actual crime rate in =  2014  :  337922\n",
      "Difference (Actual - Predicted) =  84008\n"
     ]
    }
   ],
   "source": [
    "# >>> Plotting the graph for visualisation and printing data and differences\n",
    "\n",
    "plt.plot(X_s, Y_s, color = \"blue\", label=\"Total no of cases recorded\")\n",
    "plt.plot(X_s, regressor.predict(X_s), color = \"grey\", alpha = 0.5, label = \"Line of regression\")\n",
    "plt.scatter(X_p, Y_p, color = \"black\", label = \"Predicted crime rate in 2014\")\n",
    "plt.scatter(X_p, Y_a, color = \"red\", label = \"Actual crime rate in 2014\")\n",
    "plt.grid(True)\n",
    "plt.title(\"Crime rate against Women in India\")\n",
    "plt.xlabel(\"Years (2001 - 2014)\")\n",
    "plt.ylabel(\"Criminal cases registered\")\n",
    "plt.legend(loc=\"best\")\n",
    "plt.show()\n",
    "\n",
    "print(\"Predicted crime rate in \",int(X_p.values[0]), \" : \", int(Y_p[0]))\n",
    "print(\"Actual crime rate in = \",int(X_p.values[0]),\" : \", int(Y_a))\n",
    "print(\"Difference (Actual - Predicted) = \",int(Y_a - Y_p[0]))"
   ]
  },
  {
   "cell_type": "code",
   "execution_count": null,
   "metadata": {},
   "outputs": [],
   "source": []
  }
 ],
 "metadata": {
  "kernelspec": {
   "display_name": "Python 3",
   "language": "python",
   "name": "python3"
  },
  "language_info": {
   "codemirror_mode": {
    "name": "ipython",
    "version": 3
   },
   "file_extension": ".py",
   "mimetype": "text/x-python",
   "name": "python",
   "nbconvert_exporter": "python",
   "pygments_lexer": "ipython3",
   "version": "3.7.4"
  }
 },
 "nbformat": 4,
 "nbformat_minor": 4
}
