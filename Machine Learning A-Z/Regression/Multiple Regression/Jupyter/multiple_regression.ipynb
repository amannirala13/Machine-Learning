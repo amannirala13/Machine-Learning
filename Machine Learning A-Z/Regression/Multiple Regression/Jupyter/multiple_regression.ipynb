{
 "cells": [
  {
   "cell_type": "code",
   "execution_count": 12,
   "metadata": {},
   "outputs": [
    {
     "data": {
      "text/plain": [
       "'\\nCreated on Mon Oct  7 00:18:39 2019\\n\\n@author: Aman Nirala\\n\\nGithub: http://www.github.com/amannirala13\\nLinkedIn: http://www.linkedin/in/amannirala13\\nFacebook: http://www.facebook.com/amannirala13\\nInstagram: http://www.instagram.com/amannirala13\\nTwitter: http://www.twitter.com/amannirala13\\n\\n'"
      ]
     },
     "execution_count": 12,
     "metadata": {},
     "output_type": "execute_result"
    }
   ],
   "source": [
    "# -*- coding: utf-8 -*-\n",
    "\"\"\"\n",
    "Created on Mon Oct  7 00:18:39 2019\n",
    "\n",
    "@author: Aman Nirala\n",
    "\n",
    "Github: http://www.github.com/amannirala13\n",
    "LinkedIn: http://www.linkedin/in/amannirala13\n",
    "Facebook: http://www.facebook.com/amannirala13\n",
    "Instagram: http://www.instagram.com/amannirala13\n",
    "Twitter: http://www.twitter.com/amannirala13\n",
    "\n",
    "\"\"\""
   ]
  },
  {
   "cell_type": "code",
   "execution_count": 13,
   "metadata": {},
   "outputs": [],
   "source": [
    "# >>> Importing important libraries\n",
    "\n",
    "import numpy as np\n",
    "import pandas as pd\n",
    "import matplotlib.pyplot as plt\n",
    "from sklearn.impute import SimpleImputer\n",
    "from sklearn.preprocessing import LabelEncoder, OneHotEncoder\n",
    "from sklearn.model_selection import train_test_split\n",
    "from sklearn.linear_model import LinearRegression\n",
    "import statsmodels.formula.api as sm\n",
    "import statsmodels.regression.linear_model as sml\n",
    "import matplotlib.pyplot as plt"
   ]
  },
  {
   "cell_type": "code",
   "execution_count": 14,
   "metadata": {},
   "outputs": [
    {
     "name": "stderr",
     "output_type": "stream",
     "text": [
      "c:\\users\\amann\\appdata\\local\\programs\\python\\python37\\lib\\site-packages\\sklearn\\preprocessing\\_encoders.py:415: FutureWarning: The handling of integer data will change in version 0.22. Currently, the categories are determined based on the range [0, max(values)], while in the future they will be determined based on the unique values.\n",
      "If you want the future behaviour and silence this warning, you can specify \"categories='auto'\".\n",
      "In case you used a LabelEncoder before this OneHotEncoder to convert the categories to integers, then you can now use the OneHotEncoder directly.\n",
      "  warnings.warn(msg, FutureWarning)\n",
      "c:\\users\\amann\\appdata\\local\\programs\\python\\python37\\lib\\site-packages\\sklearn\\preprocessing\\_encoders.py:451: DeprecationWarning: The 'categorical_features' keyword is deprecated in version 0.20 and will be removed in 0.22. You can use the ColumnTransformer instead.\n",
      "  \"use the ColumnTransformer instead.\", DeprecationWarning)\n"
     ]
    }
   ],
   "source": [
    "#__________________________________________DATA PREPROCESSING__________________________________________\n",
    "\n",
    "#You can use the data preprocessing template too for data preprocessing\n",
    "\n",
    "# >>> Importing Dataset\n",
    "dataset = pd.read_csv(\"50_Startups.csv\")\n",
    "\n",
    "# >>> Seperating the independent and dependent variable\n",
    "X = dataset.iloc[:, :-1].values\n",
    "Y = dataset.iloc[:, 4].values\n",
    "\n",
    "# >>> One Hot Encoding categorical data\n",
    "X[:, 3] = LabelEncoder().fit_transform(X[:, 3])\n",
    "X = OneHotEncoder(categorical_features = [3]).fit_transform(X).toarray()\n",
    "\n",
    "# >>> Removing Dummy Variable\n",
    "X = X[:, 1:]\n",
    "\n",
    "# >>> Splitting training and testing sets\n",
    "X_train, X_test, Y_train, Y_test = train_test_split(X,Y, test_size = 0.2, random_state = 0)"
   ]
  },
  {
   "cell_type": "code",
   "execution_count": 15,
   "metadata": {},
   "outputs": [],
   "source": [
    "#__________________________________________LINEAR REGRESSION__________________________________________\n",
    "\n",
    "# >>> Fitiing the model\n",
    "regressor = LinearRegression()\n",
    "regressor.fit(X_train, Y_train)\n",
    "\n",
    "# >>> Predicting the value\n",
    "Y_pred = regressor.predict(X_test)\n",
    "\n"
   ]
  },
  {
   "cell_type": "code",
   "execution_count": 18,
   "metadata": {},
   "outputs": [
    {
     "name": "stdout",
     "output_type": "stream",
     "text": [
      "                            OLS Regression Results                            \n",
      "==============================================================================\n",
      "Dep. Variable:                      y   R-squared:                       0.948\n",
      "Model:                            OLS   Adj. R-squared:                  0.943\n",
      "Method:                 Least Squares   F-statistic:                     205.0\n",
      "Date:                Mon, 07 Oct 2019   Prob (F-statistic):           2.90e-28\n",
      "Time:                        13:52:29   Log-Likelihood:                -526.75\n",
      "No. Observations:                  50   AIC:                             1064.\n",
      "Df Residuals:                      45   BIC:                             1073.\n",
      "Df Model:                           4                                         \n",
      "Covariance Type:            nonrobust                                         \n",
      "==============================================================================\n",
      "                 coef    std err          t      P>|t|      [0.025      0.975]\n",
      "------------------------------------------------------------------------------\n",
      "const        2.73e+04   3185.530      8.571      0.000    2.09e+04    3.37e+04\n",
      "x1           2.73e+04   3185.530      8.571      0.000    2.09e+04    3.37e+04\n",
      "x2          1091.1075   3377.087      0.323      0.748   -5710.695    7892.910\n",
      "x3           -39.3434   3309.047     -0.012      0.991   -6704.106    6625.420\n",
      "x4             0.8609      0.031     27.665      0.000       0.798       0.924\n",
      "x5            -0.0527      0.050     -1.045      0.301      -0.154       0.049\n",
      "==============================================================================\n",
      "Omnibus:                       14.275   Durbin-Watson:                   1.197\n",
      "Prob(Omnibus):                  0.001   Jarque-Bera (JB):               19.260\n",
      "Skew:                          -0.953   Prob(JB):                     6.57e-05\n",
      "Kurtosis:                       5.369   Cond. No.                     7.17e+16\n",
      "==============================================================================\n",
      "\n",
      "Warnings:\n",
      "[1] Standard Errors assume that the covariance matrix of the errors is correctly specified.\n",
      "[2] The smallest eigenvalue is 2.1e-22. This might indicate that there are\n",
      "strong multicollinearity problems or that the design matrix is singular.\n"
     ]
    }
   ],
   "source": [
    "#__________________________________________MULTIPLE REGRESSION (BACKWAED ELEMINATION)__________________________________________\n",
    "\n",
    "\n",
    "# >>> Creating an optimal model by added the cofficient for the constant\n",
    "X = np.append(arr = np.ones((50,1)).astype(int), values = X, axis = 1)\n",
    "\n",
    "# >>> Performing Backward Elimination\n",
    "X_opt = X[:, [0,1,2,3,4,5]]\n",
    "regressor_OLS = sml.OLS(endog=Y, exog=X_opt).fit()\n",
    "print(regressor_OLS.summary())"
   ]
  },
  {
   "cell_type": "code",
   "execution_count": 20,
   "metadata": {},
   "outputs": [
    {
     "name": "stdout",
     "output_type": "stream",
     "text": [
      "                            OLS Regression Results                            \n",
      "==============================================================================\n",
      "Dep. Variable:                      y   R-squared:                       0.948\n",
      "Model:                            OLS   Adj. R-squared:                  0.944\n",
      "Method:                 Least Squares   F-statistic:                     278.7\n",
      "Date:                Mon, 07 Oct 2019   Prob (F-statistic):           1.68e-29\n",
      "Time:                        13:52:47   Log-Likelihood:                -526.81\n",
      "No. Observations:                  50   AIC:                             1062.\n",
      "Df Residuals:                      46   BIC:                             1069.\n",
      "Df Model:                           3                                         \n",
      "Covariance Type:            nonrobust                                         \n",
      "==============================================================================\n",
      "                 coef    std err          t      P>|t|      [0.025      0.975]\n",
      "------------------------------------------------------------------------------\n",
      "const       2.753e+04   3072.973      8.960      0.000    2.13e+04    3.37e+04\n",
      "x1          2.753e+04   3072.973      8.960      0.000    2.13e+04    3.37e+04\n",
      "x2          -573.7029   2838.043     -0.202      0.841   -6286.386    5138.981\n",
      "x3             0.8624      0.030     28.282      0.000       0.801       0.924\n",
      "x4            -0.0530      0.050     -1.063      0.294      -0.154       0.047\n",
      "==============================================================================\n",
      "Omnibus:                       14.902   Durbin-Watson:                   1.199\n",
      "Prob(Omnibus):                  0.001   Jarque-Bera (JB):               21.212\n",
      "Skew:                          -0.964   Prob(JB):                     2.48e-05\n",
      "Kurtosis:                       5.543   Cond. No.                     1.05e+18\n",
      "==============================================================================\n",
      "\n",
      "Warnings:\n",
      "[1] Standard Errors assume that the covariance matrix of the errors is correctly specified.\n",
      "[2] The smallest eigenvalue is 9.83e-25. This might indicate that there are\n",
      "strong multicollinearity problems or that the design matrix is singular.\n"
     ]
    }
   ],
   "source": [
    "#Eleminating the attr with highest p-value and fitting the model again\n",
    "X_opt = X[:, [0,1,3,4,5]]\n",
    "regressor_OLS = sml.OLS(endog=Y, exog=X_opt).fit()\n",
    "print(regressor_OLS.summary())"
   ]
  },
  {
   "cell_type": "code",
   "execution_count": 21,
   "metadata": {},
   "outputs": [
    {
     "name": "stdout",
     "output_type": "stream",
     "text": [
      "                            OLS Regression Results                            \n",
      "==============================================================================\n",
      "Dep. Variable:                      y   R-squared:                       0.948\n",
      "Model:                            OLS   Adj. R-squared:                  0.944\n",
      "Method:                 Least Squares   F-statistic:                     278.7\n",
      "Date:                Mon, 07 Oct 2019   Prob (F-statistic):           1.68e-29\n",
      "Time:                        13:53:13   Log-Likelihood:                -526.81\n",
      "No. Observations:                  50   AIC:                             1062.\n",
      "Df Residuals:                      46   BIC:                             1069.\n",
      "Df Model:                           3                                         \n",
      "Covariance Type:            nonrobust                                         \n",
      "==============================================================================\n",
      "                 coef    std err          t      P>|t|      [0.025      0.975]\n",
      "------------------------------------------------------------------------------\n",
      "const       5.507e+04   6145.947      8.960      0.000    4.27e+04    6.74e+04\n",
      "x1          -573.7029   2838.043     -0.202      0.841   -6286.386    5138.981\n",
      "x2             0.8624      0.030     28.282      0.000       0.801       0.924\n",
      "x3            -0.0530      0.050     -1.063      0.294      -0.154       0.047\n",
      "==============================================================================\n",
      "Omnibus:                       14.902   Durbin-Watson:                   1.199\n",
      "Prob(Omnibus):                  0.001   Jarque-Bera (JB):               21.212\n",
      "Skew:                          -0.964   Prob(JB):                     2.48e-05\n",
      "Kurtosis:                       5.543   Cond. No.                     6.74e+05\n",
      "==============================================================================\n",
      "\n",
      "Warnings:\n",
      "[1] Standard Errors assume that the covariance matrix of the errors is correctly specified.\n",
      "[2] The condition number is large, 6.74e+05. This might indicate that there are\n",
      "strong multicollinearity or other numerical problems.\n"
     ]
    }
   ],
   "source": [
    "#Eleminating the attr with highest p-value and fitting the model again\n",
    "X_opt = X[:, [0,3,4,5]]\n",
    "regressor_OLS = sml.OLS(endog=Y, exog=X_opt).fit()\n",
    "print(regressor_OLS.summary())"
   ]
  },
  {
   "cell_type": "code",
   "execution_count": 22,
   "metadata": {},
   "outputs": [
    {
     "name": "stdout",
     "output_type": "stream",
     "text": [
      "                            OLS Regression Results                            \n",
      "==============================================================================\n",
      "Dep. Variable:                      y   R-squared:                       0.041\n",
      "Model:                            OLS   Adj. R-squared:                  0.000\n",
      "Method:                 Least Squares   F-statistic:                     1.010\n",
      "Date:                Mon, 07 Oct 2019   Prob (F-statistic):              0.372\n",
      "Time:                        13:53:32   Log-Likelihood:                -599.60\n",
      "No. Observations:                  50   AIC:                             1205.\n",
      "Df Residuals:                      47   BIC:                             1211.\n",
      "Df Model:                           2                                         \n",
      "Covariance Type:            nonrobust                                         \n",
      "==============================================================================\n",
      "                 coef    std err          t      P>|t|      [0.025      0.975]\n",
      "------------------------------------------------------------------------------\n",
      "const       7.613e+04   2.59e+04      2.942      0.005    2.41e+04    1.28e+05\n",
      "x1          2555.2116    1.2e+04      0.212      0.833   -2.16e+04    2.68e+04\n",
      "x2             0.2885      0.205      1.404      0.167      -0.125       0.702\n",
      "==============================================================================\n",
      "Omnibus:                        0.119   Durbin-Watson:                   0.097\n",
      "Prob(Omnibus):                  0.942   Jarque-Bera (JB):                0.139\n",
      "Skew:                           0.099   Prob(JB):                        0.933\n",
      "Kurtosis:                       2.835   Cond. No.                     5.67e+05\n",
      "==============================================================================\n",
      "\n",
      "Warnings:\n",
      "[1] Standard Errors assume that the covariance matrix of the errors is correctly specified.\n",
      "[2] The condition number is large, 5.67e+05. This might indicate that there are\n",
      "strong multicollinearity or other numerical problems.\n"
     ]
    }
   ],
   "source": [
    "\n",
    "#Eleminating the attr with highest p-value and fitting the model again\n",
    "X_opt = X[:, [0,3,5]]\n",
    "regressor_OLS = sml.OLS(endog=Y, exog=X_opt).fit()\n",
    "print(regressor_OLS.summary())"
   ]
  },
  {
   "cell_type": "code",
   "execution_count": 23,
   "metadata": {},
   "outputs": [
    {
     "name": "stdout",
     "output_type": "stream",
     "text": [
      "                            OLS Regression Results                            \n",
      "==============================================================================\n",
      "Dep. Variable:                      y   R-squared:                       0.001\n",
      "Model:                            OLS   Adj. R-squared:                 -0.020\n",
      "Method:                 Least Squares   F-statistic:                   0.04727\n",
      "Date:                Mon, 07 Oct 2019   Prob (F-statistic):              0.829\n",
      "Time:                        13:53:41   Log-Likelihood:                -600.63\n",
      "No. Observations:                  50   AIC:                             1205.\n",
      "Df Residuals:                      48   BIC:                             1209.\n",
      "Df Model:                           1                                         \n",
      "Covariance Type:            nonrobust                                         \n",
      "==============================================================================\n",
      "                 coef    std err          t      P>|t|      [0.025      0.975]\n",
      "------------------------------------------------------------------------------\n",
      "const       1.111e+05   7085.628     15.682      0.000    9.69e+04    1.25e+05\n",
      "x1          2642.1322   1.22e+04      0.217      0.829   -2.18e+04    2.71e+04\n",
      "==============================================================================\n",
      "Omnibus:                        0.011   Durbin-Watson:                   0.021\n",
      "Prob(Omnibus):                  0.994   Jarque-Bera (JB):                0.082\n",
      "Skew:                           0.022   Prob(JB):                        0.960\n",
      "Kurtosis:                       2.807   Cond. No.                         2.41\n",
      "==============================================================================\n",
      "\n",
      "Warnings:\n",
      "[1] Standard Errors assume that the covariance matrix of the errors is correctly specified.\n"
     ]
    }
   ],
   "source": [
    "#Eleminating the attr with highest p-value and fitting the model again\n",
    "X_opt = X[:, [0,3]]\n",
    "regressor_OLS = sml.OLS(endog=Y, exog=X_opt).fit()\n",
    "print(regressor_OLS.summary())"
   ]
  },
  {
   "cell_type": "code",
   "execution_count": 17,
   "metadata": {},
   "outputs": [
    {
     "data": {
      "image/png": "[encoded data removed]",
      "text/plain": [
       "<Figure size 432x288 with 1 Axes>"
      ]
     },
     "metadata": {
      "needs_background": "light"
     },
     "output_type": "display_data"
    },
    {
     "data": {
      "image/png": "[encoded data removed]",
      "text/plain": [
       "<Figure size 432x288 with 1 Axes>"
      ]
     },
     "metadata": {
      "needs_background": "light"
     },
     "output_type": "display_data"
    }
   ],
   "source": [
    "#__________________________________________VISUALIZATION__________________________________________\n",
    "\n",
    "plt.scatter(X_train[:, 3], Y_train, color = 'black')\n",
    "plt.scatter(X_train[:, 3],regressor.predict(X_train), color = \"red\")\n",
    "plt.title(\"TRAINING DATASET\")\n",
    "plt.xlabel(\"R&D\")\n",
    "plt.ylabel(\"Profit\")\n",
    "plt.show()\n",
    "\n",
    "plt.scatter(X_test[:, 3], Y_test, color = 'black')\n",
    "plt.scatter(X_test[:, 3], Y_pred, color = 'red')\n",
    "plt.title(\"TESTING DATASET\")\n",
    "plt.xlabel(\"R&D\")\n",
    "plt.ylabel(\"Profit\")\n",
    "plt.show()"
   ]
  },
  {
   "cell_type": "code",
   "execution_count": null,
   "metadata": {},
   "outputs": [],
   "source": []
  }
 ],
 "metadata": {
  "kernelspec": {
   "display_name": "Python 3",
   "language": "python",
   "name": "python3"
  },
  "language_info": {
   "codemirror_mode": {
    "name": "ipython",
    "version": 3
   },
   "file_extension": ".py",
   "mimetype": "text/x-python",
   "name": "python",
   "nbconvert_exporter": "python",
   "pygments_lexer": "ipython3",
   "version": "3.7.4"
  }
 },
 "nbformat": 4,
 "nbformat_minor": 4
}
